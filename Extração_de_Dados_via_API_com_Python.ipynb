{
  "nbformat": 4,
  "nbformat_minor": 0,
  "metadata": {
    "colab": {
      "provenance": [],
      "authorship_tag": "ABX9TyPVAiS3dGgqrfOSfMMKLZ3x",
      "include_colab_link": true
    },
    "kernelspec": {
      "name": "python3",
      "display_name": "Python 3"
    },
    "language_info": {
      "name": "python"
    }
  },
  "cells": [
    {
      "cell_type": "markdown",
      "metadata": {
        "id": "view-in-github",
        "colab_type": "text"
      },
      "source": [
        "<a href=\"https://colab.research.google.com/github/murilomike/Extra-o-de-Dados-via-API-com-Python/blob/main/Extra%C3%A7%C3%A3o_de_Dados_via_API_com_Python.ipynb\" target=\"_parent\"><img src=\"https://colab.research.google.com/assets/colab-badge.svg\" alt=\"Open In Colab\"/></a>"
      ]
    },
    {
      "cell_type": "markdown",
      "source": [
        "# Extração de Dados via API com Python"
      ],
      "metadata": {
        "id": "HS-p1n-ouuko"
      }
    },
    {
      "cell_type": "markdown",
      "source": [
        "##  Importar bibliotecas necessárias"
      ],
      "metadata": {
        "id": "bSBjQMxK02MP"
      }
    },
    {
      "cell_type": "code",
      "source": [
        "import requests\n",
        "import pandas as pd\n",
        "import matplotlib.pyplot as plt\n",
        "import seaborn as sns\n",
        "import time"
      ],
      "metadata": {
        "id": "N6KrMaxozZMN"
      },
      "execution_count": 14,
      "outputs": []
    },
    {
      "cell_type": "markdown",
      "source": [
        "## Configurando parâmetros da requisição"
      ],
      "metadata": {
        "id": "QnDVELPi04D2"
      }
    },
    {
      "cell_type": "code",
      "source": [
        "URL = \"https://bored-api.appbrewery.com/random\"\n",
        "NUM_REQUESTS = 20\n",
        "MAX_RETRIES = 3\n",
        "TIMEOUT = 5"
      ],
      "metadata": {
        "id": "SNYdRMqNzZKz"
      },
      "execution_count": 31,
      "outputs": []
    },
    {
      "cell_type": "markdown",
      "source": [
        "## Função de Requisição"
      ],
      "metadata": {
        "id": "c3BUzTtN087m"
      }
    },
    {
      "cell_type": "code",
      "source": [
        "def extrair_atividade():\n",
        "    for attempt in range(MAX_RETRIES):\n",
        "        try:\n",
        "            response = requests.get(URL, timeout=TIMEOUT)\n",
        "            response.raise_for_status()\n",
        "            return response.json()\n",
        "        except requests.exceptions.RequestException as e:\n",
        "            print(f\"Tentativa {attempt + 1}/{MAX_RETRIES} falhou: {e}\")\n",
        "            time.sleep(1)\n",
        "    return None\n"
      ],
      "metadata": {
        "id": "R7yHKLV8zWX1"
      },
      "execution_count": 33,
      "outputs": []
    },
    {
      "cell_type": "markdown",
      "source": [
        "## Loop de Coleta"
      ],
      "metadata": {
        "id": "skNLYAt41Gnu"
      }
    },
    {
      "cell_type": "code",
      "source": [
        "atividades = []\n",
        "for i in range(NUM_REQUESTS):\n",
        "    print(f\"Coletando atividade {i+1}/{NUM_REQUESTS}...\")\n",
        "    atividade = extrair_atividade()\n",
        "    if atividade:\n",
        "        atividades.append(atividade)\n"
      ],
      "metadata": {
        "colab": {
          "base_uri": "https://localhost:8080/"
        },
        "id": "IUJ28NSb1GUu",
        "outputId": "83251589-c3b2-452a-abaa-bc4f2d176c9b"
      },
      "execution_count": 34,
      "outputs": [
        {
          "output_type": "stream",
          "name": "stdout",
          "text": [
            "Coletando atividade 1/20...\n",
            "Coletando atividade 2/20...\n",
            "Coletando atividade 3/20...\n",
            "Coletando atividade 4/20...\n",
            "Coletando atividade 5/20...\n",
            "Coletando atividade 6/20...\n",
            "Coletando atividade 7/20...\n",
            "Coletando atividade 8/20...\n",
            "Coletando atividade 9/20...\n",
            "Coletando atividade 10/20...\n",
            "Coletando atividade 11/20...\n",
            "Coletando atividade 12/20...\n",
            "Coletando atividade 13/20...\n",
            "Coletando atividade 14/20...\n",
            "Coletando atividade 15/20...\n",
            "Coletando atividade 16/20...\n",
            "Coletando atividade 17/20...\n",
            "Coletando atividade 18/20...\n",
            "Coletando atividade 19/20...\n",
            "Coletando atividade 20/20...\n"
          ]
        }
      ]
    },
    {
      "cell_type": "markdown",
      "source": [
        "## Criação do DataFrame e Salvamento"
      ],
      "metadata": {
        "id": "ldvtHFV11M42"
      }
    },
    {
      "cell_type": "code",
      "source": [
        "df = pd.DataFrame(atividades)\n",
        "colunas_relevantes = [\"activity\", \"type\", \"participants\", \"price\", \"accessibility\"]\n",
        "df = df[colunas_relevantes]\n",
        "df.columns = [\"Atividade\", \"Tipo\", \"Participantes\", \"Preço\", \"Acessibilidade\"]\n",
        "df = df.drop_duplicates(subset=[\"Atividade\"])\n",
        "df.to_csv(\"atividades_bored.csv\", index=False, encoding=\"utf-8\")\n"
      ],
      "metadata": {
        "id": "tYlrB_QqzqmL"
      },
      "execution_count": 35,
      "outputs": []
    },
    {
      "cell_type": "code",
      "source": [
        "df"
      ],
      "metadata": {
        "colab": {
          "base_uri": "https://localhost:8080/",
          "height": 677
        },
        "id": "PK9IC6RuzvHp",
        "outputId": "34e1c43a-f3ab-4569-8b9d-8569fbe2c3fe"
      },
      "execution_count": 36,
      "outputs": [
        {
          "output_type": "execute_result",
          "data": {
            "text/plain": [
              "                                            Atividade          Tipo  \\\n",
              "0              Write a handwritten letter to somebody        social   \n",
              "1                       Learn how to play a new sport  recreational   \n",
              "2      Go to the library and find an interesting book    relaxation   \n",
              "3                      Learn and play a new card game  recreational   \n",
              "4                                  Do a jigsaw puzzle  recreational   \n",
              "5                                Solve a Rubik's cube  recreational   \n",
              "6                       Binge watch a trending series  recreational   \n",
              "7       Go see a movie in theaters with a few friends        social   \n",
              "8                    Learn how to make an Alexa skill     education   \n",
              "9                    Learn a new programming language     education   \n",
              "10                       Go see a Broadway production  recreational   \n",
              "11               Do something you used to do as a kid    relaxation   \n",
              "12             Have a bonfire with your close friends        social   \n",
              "13  Learn about a distributed version control syst...     education   \n",
              "14                  Volunteer at your local food bank       charity   \n",
              "15             Learn how to whistle with your fingers     education   \n",
              "16                   Back up important computer files      busywork   \n",
              "17                              Prepare a 72-hour kit      busywork   \n",
              "18         Practice coding in your favorite lanaguage  recreational   \n",
              "19                            Make homemade ice cream       cooking   \n",
              "\n",
              "    Participantes  Preço        Acessibilidade  \n",
              "0               1   0.10  Few to no challenges  \n",
              "1               1   0.10      Minor challenges  \n",
              "2               1   0.05  Few to no challenges  \n",
              "3               1   0.00  Few to no challenges  \n",
              "4               1   0.10  Few to no challenges  \n",
              "5               1   0.00  Few to no challenges  \n",
              "6               1   0.20  Few to no challenges  \n",
              "7               4   0.20      Minor challenges  \n",
              "8               1   0.00      Minor challenges  \n",
              "9               1   0.10  Few to no challenges  \n",
              "10              4   0.80  Few to no challenges  \n",
              "11              1   0.10  Few to no challenges  \n",
              "12              4   0.10      Minor challenges  \n",
              "13              1   0.00  Few to no challenges  \n",
              "14              1   0.00  Few to no challenges  \n",
              "15              1   0.00      Minor challenges  \n",
              "16              1   0.20  Few to no challenges  \n",
              "17              1   0.50  Few to no challenges  \n",
              "18              1   0.00  Few to no challenges  \n",
              "19              1   0.20  Few to no challenges  "
            ],
            "text/html": [
              "\n",
              "  <div id=\"df-4bcb349b-8f3d-4467-832c-751f4b94a30e\" class=\"colab-df-container\">\n",
              "    <div>\n",
              "<style scoped>\n",
              "    .dataframe tbody tr th:only-of-type {\n",
              "        vertical-align: middle;\n",
              "    }\n",
              "\n",
              "    .dataframe tbody tr th {\n",
              "        vertical-align: top;\n",
              "    }\n",
              "\n",
              "    .dataframe thead th {\n",
              "        text-align: right;\n",
              "    }\n",
              "</style>\n",
              "<table border=\"1\" class=\"dataframe\">\n",
              "  <thead>\n",
              "    <tr style=\"text-align: right;\">\n",
              "      <th></th>\n",
              "      <th>Atividade</th>\n",
              "      <th>Tipo</th>\n",
              "      <th>Participantes</th>\n",
              "      <th>Preço</th>\n",
              "      <th>Acessibilidade</th>\n",
              "    </tr>\n",
              "  </thead>\n",
              "  <tbody>\n",
              "    <tr>\n",
              "      <th>0</th>\n",
              "      <td>Write a handwritten letter to somebody</td>\n",
              "      <td>social</td>\n",
              "      <td>1</td>\n",
              "      <td>0.10</td>\n",
              "      <td>Few to no challenges</td>\n",
              "    </tr>\n",
              "    <tr>\n",
              "      <th>1</th>\n",
              "      <td>Learn how to play a new sport</td>\n",
              "      <td>recreational</td>\n",
              "      <td>1</td>\n",
              "      <td>0.10</td>\n",
              "      <td>Minor challenges</td>\n",
              "    </tr>\n",
              "    <tr>\n",
              "      <th>2</th>\n",
              "      <td>Go to the library and find an interesting book</td>\n",
              "      <td>relaxation</td>\n",
              "      <td>1</td>\n",
              "      <td>0.05</td>\n",
              "      <td>Few to no challenges</td>\n",
              "    </tr>\n",
              "    <tr>\n",
              "      <th>3</th>\n",
              "      <td>Learn and play a new card game</td>\n",
              "      <td>recreational</td>\n",
              "      <td>1</td>\n",
              "      <td>0.00</td>\n",
              "      <td>Few to no challenges</td>\n",
              "    </tr>\n",
              "    <tr>\n",
              "      <th>4</th>\n",
              "      <td>Do a jigsaw puzzle</td>\n",
              "      <td>recreational</td>\n",
              "      <td>1</td>\n",
              "      <td>0.10</td>\n",
              "      <td>Few to no challenges</td>\n",
              "    </tr>\n",
              "    <tr>\n",
              "      <th>5</th>\n",
              "      <td>Solve a Rubik's cube</td>\n",
              "      <td>recreational</td>\n",
              "      <td>1</td>\n",
              "      <td>0.00</td>\n",
              "      <td>Few to no challenges</td>\n",
              "    </tr>\n",
              "    <tr>\n",
              "      <th>6</th>\n",
              "      <td>Binge watch a trending series</td>\n",
              "      <td>recreational</td>\n",
              "      <td>1</td>\n",
              "      <td>0.20</td>\n",
              "      <td>Few to no challenges</td>\n",
              "    </tr>\n",
              "    <tr>\n",
              "      <th>7</th>\n",
              "      <td>Go see a movie in theaters with a few friends</td>\n",
              "      <td>social</td>\n",
              "      <td>4</td>\n",
              "      <td>0.20</td>\n",
              "      <td>Minor challenges</td>\n",
              "    </tr>\n",
              "    <tr>\n",
              "      <th>8</th>\n",
              "      <td>Learn how to make an Alexa skill</td>\n",
              "      <td>education</td>\n",
              "      <td>1</td>\n",
              "      <td>0.00</td>\n",
              "      <td>Minor challenges</td>\n",
              "    </tr>\n",
              "    <tr>\n",
              "      <th>9</th>\n",
              "      <td>Learn a new programming language</td>\n",
              "      <td>education</td>\n",
              "      <td>1</td>\n",
              "      <td>0.10</td>\n",
              "      <td>Few to no challenges</td>\n",
              "    </tr>\n",
              "    <tr>\n",
              "      <th>10</th>\n",
              "      <td>Go see a Broadway production</td>\n",
              "      <td>recreational</td>\n",
              "      <td>4</td>\n",
              "      <td>0.80</td>\n",
              "      <td>Few to no challenges</td>\n",
              "    </tr>\n",
              "    <tr>\n",
              "      <th>11</th>\n",
              "      <td>Do something you used to do as a kid</td>\n",
              "      <td>relaxation</td>\n",
              "      <td>1</td>\n",
              "      <td>0.10</td>\n",
              "      <td>Few to no challenges</td>\n",
              "    </tr>\n",
              "    <tr>\n",
              "      <th>12</th>\n",
              "      <td>Have a bonfire with your close friends</td>\n",
              "      <td>social</td>\n",
              "      <td>4</td>\n",
              "      <td>0.10</td>\n",
              "      <td>Minor challenges</td>\n",
              "    </tr>\n",
              "    <tr>\n",
              "      <th>13</th>\n",
              "      <td>Learn about a distributed version control syst...</td>\n",
              "      <td>education</td>\n",
              "      <td>1</td>\n",
              "      <td>0.00</td>\n",
              "      <td>Few to no challenges</td>\n",
              "    </tr>\n",
              "    <tr>\n",
              "      <th>14</th>\n",
              "      <td>Volunteer at your local food bank</td>\n",
              "      <td>charity</td>\n",
              "      <td>1</td>\n",
              "      <td>0.00</td>\n",
              "      <td>Few to no challenges</td>\n",
              "    </tr>\n",
              "    <tr>\n",
              "      <th>15</th>\n",
              "      <td>Learn how to whistle with your fingers</td>\n",
              "      <td>education</td>\n",
              "      <td>1</td>\n",
              "      <td>0.00</td>\n",
              "      <td>Minor challenges</td>\n",
              "    </tr>\n",
              "    <tr>\n",
              "      <th>16</th>\n",
              "      <td>Back up important computer files</td>\n",
              "      <td>busywork</td>\n",
              "      <td>1</td>\n",
              "      <td>0.20</td>\n",
              "      <td>Few to no challenges</td>\n",
              "    </tr>\n",
              "    <tr>\n",
              "      <th>17</th>\n",
              "      <td>Prepare a 72-hour kit</td>\n",
              "      <td>busywork</td>\n",
              "      <td>1</td>\n",
              "      <td>0.50</td>\n",
              "      <td>Few to no challenges</td>\n",
              "    </tr>\n",
              "    <tr>\n",
              "      <th>18</th>\n",
              "      <td>Practice coding in your favorite lanaguage</td>\n",
              "      <td>recreational</td>\n",
              "      <td>1</td>\n",
              "      <td>0.00</td>\n",
              "      <td>Few to no challenges</td>\n",
              "    </tr>\n",
              "    <tr>\n",
              "      <th>19</th>\n",
              "      <td>Make homemade ice cream</td>\n",
              "      <td>cooking</td>\n",
              "      <td>1</td>\n",
              "      <td>0.20</td>\n",
              "      <td>Few to no challenges</td>\n",
              "    </tr>\n",
              "  </tbody>\n",
              "</table>\n",
              "</div>\n",
              "    <div class=\"colab-df-buttons\">\n",
              "\n",
              "  <div class=\"colab-df-container\">\n",
              "    <button class=\"colab-df-convert\" onclick=\"convertToInteractive('df-4bcb349b-8f3d-4467-832c-751f4b94a30e')\"\n",
              "            title=\"Convert this dataframe to an interactive table.\"\n",
              "            style=\"display:none;\">\n",
              "\n",
              "  <svg xmlns=\"http://www.w3.org/2000/svg\" height=\"24px\" viewBox=\"0 -960 960 960\">\n",
              "    <path d=\"M120-120v-720h720v720H120Zm60-500h600v-160H180v160Zm220 220h160v-160H400v160Zm0 220h160v-160H400v160ZM180-400h160v-160H180v160Zm440 0h160v-160H620v160ZM180-180h160v-160H180v160Zm440 0h160v-160H620v160Z\"/>\n",
              "  </svg>\n",
              "    </button>\n",
              "\n",
              "  <style>\n",
              "    .colab-df-container {\n",
              "      display:flex;\n",
              "      gap: 12px;\n",
              "    }\n",
              "\n",
              "    .colab-df-convert {\n",
              "      background-color: #E8F0FE;\n",
              "      border: none;\n",
              "      border-radius: 50%;\n",
              "      cursor: pointer;\n",
              "      display: none;\n",
              "      fill: #1967D2;\n",
              "      height: 32px;\n",
              "      padding: 0 0 0 0;\n",
              "      width: 32px;\n",
              "    }\n",
              "\n",
              "    .colab-df-convert:hover {\n",
              "      background-color: #E2EBFA;\n",
              "      box-shadow: 0px 1px 2px rgba(60, 64, 67, 0.3), 0px 1px 3px 1px rgba(60, 64, 67, 0.15);\n",
              "      fill: #174EA6;\n",
              "    }\n",
              "\n",
              "    .colab-df-buttons div {\n",
              "      margin-bottom: 4px;\n",
              "    }\n",
              "\n",
              "    [theme=dark] .colab-df-convert {\n",
              "      background-color: #3B4455;\n",
              "      fill: #D2E3FC;\n",
              "    }\n",
              "\n",
              "    [theme=dark] .colab-df-convert:hover {\n",
              "      background-color: #434B5C;\n",
              "      box-shadow: 0px 1px 3px 1px rgba(0, 0, 0, 0.15);\n",
              "      filter: drop-shadow(0px 1px 2px rgba(0, 0, 0, 0.3));\n",
              "      fill: #FFFFFF;\n",
              "    }\n",
              "  </style>\n",
              "\n",
              "    <script>\n",
              "      const buttonEl =\n",
              "        document.querySelector('#df-4bcb349b-8f3d-4467-832c-751f4b94a30e button.colab-df-convert');\n",
              "      buttonEl.style.display =\n",
              "        google.colab.kernel.accessAllowed ? 'block' : 'none';\n",
              "\n",
              "      async function convertToInteractive(key) {\n",
              "        const element = document.querySelector('#df-4bcb349b-8f3d-4467-832c-751f4b94a30e');\n",
              "        const dataTable =\n",
              "          await google.colab.kernel.invokeFunction('convertToInteractive',\n",
              "                                                    [key], {});\n",
              "        if (!dataTable) return;\n",
              "\n",
              "        const docLinkHtml = 'Like what you see? Visit the ' +\n",
              "          '<a target=\"_blank\" href=https://colab.research.google.com/notebooks/data_table.ipynb>data table notebook</a>'\n",
              "          + ' to learn more about interactive tables.';\n",
              "        element.innerHTML = '';\n",
              "        dataTable['output_type'] = 'display_data';\n",
              "        await google.colab.output.renderOutput(dataTable, element);\n",
              "        const docLink = document.createElement('div');\n",
              "        docLink.innerHTML = docLinkHtml;\n",
              "        element.appendChild(docLink);\n",
              "      }\n",
              "    </script>\n",
              "  </div>\n",
              "\n",
              "\n",
              "    <div id=\"df-23244dc4-86bc-4e12-9c19-db54c400680e\">\n",
              "      <button class=\"colab-df-quickchart\" onclick=\"quickchart('df-23244dc4-86bc-4e12-9c19-db54c400680e')\"\n",
              "                title=\"Suggest charts\"\n",
              "                style=\"display:none;\">\n",
              "\n",
              "<svg xmlns=\"http://www.w3.org/2000/svg\" height=\"24px\"viewBox=\"0 0 24 24\"\n",
              "     width=\"24px\">\n",
              "    <g>\n",
              "        <path d=\"M19 3H5c-1.1 0-2 .9-2 2v14c0 1.1.9 2 2 2h14c1.1 0 2-.9 2-2V5c0-1.1-.9-2-2-2zM9 17H7v-7h2v7zm4 0h-2V7h2v10zm4 0h-2v-4h2v4z\"/>\n",
              "    </g>\n",
              "</svg>\n",
              "      </button>\n",
              "\n",
              "<style>\n",
              "  .colab-df-quickchart {\n",
              "      --bg-color: #E8F0FE;\n",
              "      --fill-color: #1967D2;\n",
              "      --hover-bg-color: #E2EBFA;\n",
              "      --hover-fill-color: #174EA6;\n",
              "      --disabled-fill-color: #AAA;\n",
              "      --disabled-bg-color: #DDD;\n",
              "  }\n",
              "\n",
              "  [theme=dark] .colab-df-quickchart {\n",
              "      --bg-color: #3B4455;\n",
              "      --fill-color: #D2E3FC;\n",
              "      --hover-bg-color: #434B5C;\n",
              "      --hover-fill-color: #FFFFFF;\n",
              "      --disabled-bg-color: #3B4455;\n",
              "      --disabled-fill-color: #666;\n",
              "  }\n",
              "\n",
              "  .colab-df-quickchart {\n",
              "    background-color: var(--bg-color);\n",
              "    border: none;\n",
              "    border-radius: 50%;\n",
              "    cursor: pointer;\n",
              "    display: none;\n",
              "    fill: var(--fill-color);\n",
              "    height: 32px;\n",
              "    padding: 0;\n",
              "    width: 32px;\n",
              "  }\n",
              "\n",
              "  .colab-df-quickchart:hover {\n",
              "    background-color: var(--hover-bg-color);\n",
              "    box-shadow: 0 1px 2px rgba(60, 64, 67, 0.3), 0 1px 3px 1px rgba(60, 64, 67, 0.15);\n",
              "    fill: var(--button-hover-fill-color);\n",
              "  }\n",
              "\n",
              "  .colab-df-quickchart-complete:disabled,\n",
              "  .colab-df-quickchart-complete:disabled:hover {\n",
              "    background-color: var(--disabled-bg-color);\n",
              "    fill: var(--disabled-fill-color);\n",
              "    box-shadow: none;\n",
              "  }\n",
              "\n",
              "  .colab-df-spinner {\n",
              "    border: 2px solid var(--fill-color);\n",
              "    border-color: transparent;\n",
              "    border-bottom-color: var(--fill-color);\n",
              "    animation:\n",
              "      spin 1s steps(1) infinite;\n",
              "  }\n",
              "\n",
              "  @keyframes spin {\n",
              "    0% {\n",
              "      border-color: transparent;\n",
              "      border-bottom-color: var(--fill-color);\n",
              "      border-left-color: var(--fill-color);\n",
              "    }\n",
              "    20% {\n",
              "      border-color: transparent;\n",
              "      border-left-color: var(--fill-color);\n",
              "      border-top-color: var(--fill-color);\n",
              "    }\n",
              "    30% {\n",
              "      border-color: transparent;\n",
              "      border-left-color: var(--fill-color);\n",
              "      border-top-color: var(--fill-color);\n",
              "      border-right-color: var(--fill-color);\n",
              "    }\n",
              "    40% {\n",
              "      border-color: transparent;\n",
              "      border-right-color: var(--fill-color);\n",
              "      border-top-color: var(--fill-color);\n",
              "    }\n",
              "    60% {\n",
              "      border-color: transparent;\n",
              "      border-right-color: var(--fill-color);\n",
              "    }\n",
              "    80% {\n",
              "      border-color: transparent;\n",
              "      border-right-color: var(--fill-color);\n",
              "      border-bottom-color: var(--fill-color);\n",
              "    }\n",
              "    90% {\n",
              "      border-color: transparent;\n",
              "      border-bottom-color: var(--fill-color);\n",
              "    }\n",
              "  }\n",
              "</style>\n",
              "\n",
              "      <script>\n",
              "        async function quickchart(key) {\n",
              "          const quickchartButtonEl =\n",
              "            document.querySelector('#' + key + ' button');\n",
              "          quickchartButtonEl.disabled = true;  // To prevent multiple clicks.\n",
              "          quickchartButtonEl.classList.add('colab-df-spinner');\n",
              "          try {\n",
              "            const charts = await google.colab.kernel.invokeFunction(\n",
              "                'suggestCharts', [key], {});\n",
              "          } catch (error) {\n",
              "            console.error('Error during call to suggestCharts:', error);\n",
              "          }\n",
              "          quickchartButtonEl.classList.remove('colab-df-spinner');\n",
              "          quickchartButtonEl.classList.add('colab-df-quickchart-complete');\n",
              "        }\n",
              "        (() => {\n",
              "          let quickchartButtonEl =\n",
              "            document.querySelector('#df-23244dc4-86bc-4e12-9c19-db54c400680e button');\n",
              "          quickchartButtonEl.style.display =\n",
              "            google.colab.kernel.accessAllowed ? 'block' : 'none';\n",
              "        })();\n",
              "      </script>\n",
              "    </div>\n",
              "\n",
              "  <div id=\"id_767de4ea-4cc4-47e7-8fb7-1d4a42c6a4aa\">\n",
              "    <style>\n",
              "      .colab-df-generate {\n",
              "        background-color: #E8F0FE;\n",
              "        border: none;\n",
              "        border-radius: 50%;\n",
              "        cursor: pointer;\n",
              "        display: none;\n",
              "        fill: #1967D2;\n",
              "        height: 32px;\n",
              "        padding: 0 0 0 0;\n",
              "        width: 32px;\n",
              "      }\n",
              "\n",
              "      .colab-df-generate:hover {\n",
              "        background-color: #E2EBFA;\n",
              "        box-shadow: 0px 1px 2px rgba(60, 64, 67, 0.3), 0px 1px 3px 1px rgba(60, 64, 67, 0.15);\n",
              "        fill: #174EA6;\n",
              "      }\n",
              "\n",
              "      [theme=dark] .colab-df-generate {\n",
              "        background-color: #3B4455;\n",
              "        fill: #D2E3FC;\n",
              "      }\n",
              "\n",
              "      [theme=dark] .colab-df-generate:hover {\n",
              "        background-color: #434B5C;\n",
              "        box-shadow: 0px 1px 3px 1px rgba(0, 0, 0, 0.15);\n",
              "        filter: drop-shadow(0px 1px 2px rgba(0, 0, 0, 0.3));\n",
              "        fill: #FFFFFF;\n",
              "      }\n",
              "    </style>\n",
              "    <button class=\"colab-df-generate\" onclick=\"generateWithVariable('df')\"\n",
              "            title=\"Generate code using this dataframe.\"\n",
              "            style=\"display:none;\">\n",
              "\n",
              "  <svg xmlns=\"http://www.w3.org/2000/svg\" height=\"24px\"viewBox=\"0 0 24 24\"\n",
              "       width=\"24px\">\n",
              "    <path d=\"M7,19H8.4L18.45,9,17,7.55,7,17.6ZM5,21V16.75L18.45,3.32a2,2,0,0,1,2.83,0l1.4,1.43a1.91,1.91,0,0,1,.58,1.4,1.91,1.91,0,0,1-.58,1.4L9.25,21ZM18.45,9,17,7.55Zm-12,3A5.31,5.31,0,0,0,4.9,8.1,5.31,5.31,0,0,0,1,6.5,5.31,5.31,0,0,0,4.9,4.9,5.31,5.31,0,0,0,6.5,1,5.31,5.31,0,0,0,8.1,4.9,5.31,5.31,0,0,0,12,6.5,5.46,5.46,0,0,0,6.5,12Z\"/>\n",
              "  </svg>\n",
              "    </button>\n",
              "    <script>\n",
              "      (() => {\n",
              "      const buttonEl =\n",
              "        document.querySelector('#id_767de4ea-4cc4-47e7-8fb7-1d4a42c6a4aa button.colab-df-generate');\n",
              "      buttonEl.style.display =\n",
              "        google.colab.kernel.accessAllowed ? 'block' : 'none';\n",
              "\n",
              "      buttonEl.onclick = () => {\n",
              "        google.colab.notebook.generateWithVariable('df');\n",
              "      }\n",
              "      })();\n",
              "    </script>\n",
              "  </div>\n",
              "\n",
              "    </div>\n",
              "  </div>\n"
            ],
            "application/vnd.google.colaboratory.intrinsic+json": {
              "type": "dataframe",
              "variable_name": "df",
              "summary": "{\n  \"name\": \"df\",\n  \"rows\": 20,\n  \"fields\": [\n    {\n      \"column\": \"Atividade\",\n      \"properties\": {\n        \"dtype\": \"string\",\n        \"num_unique_values\": 20,\n        \"samples\": [\n          \"Write a handwritten letter to somebody\",\n          \"Prepare a 72-hour kit\",\n          \"Learn how to whistle with your fingers\"\n        ],\n        \"semantic_type\": \"\",\n        \"description\": \"\"\n      }\n    },\n    {\n      \"column\": \"Tipo\",\n      \"properties\": {\n        \"dtype\": \"category\",\n        \"num_unique_values\": 7,\n        \"samples\": [\n          \"social\",\n          \"recreational\",\n          \"busywork\"\n        ],\n        \"semantic_type\": \"\",\n        \"description\": \"\"\n      }\n    },\n    {\n      \"column\": \"Participantes\",\n      \"properties\": {\n        \"dtype\": \"number\",\n        \"std\": 1,\n        \"min\": 1,\n        \"max\": 4,\n        \"num_unique_values\": 2,\n        \"samples\": [\n          4,\n          1\n        ],\n        \"semantic_type\": \"\",\n        \"description\": \"\"\n      }\n    },\n    {\n      \"column\": \"Pre\\u00e7o\",\n      \"properties\": {\n        \"dtype\": \"number\",\n        \"std\": 0.19659937891426235,\n        \"min\": 0.0,\n        \"max\": 0.8,\n        \"num_unique_values\": 6,\n        \"samples\": [\n          0.1,\n          0.05\n        ],\n        \"semantic_type\": \"\",\n        \"description\": \"\"\n      }\n    },\n    {\n      \"column\": \"Acessibilidade\",\n      \"properties\": {\n        \"dtype\": \"category\",\n        \"num_unique_values\": 2,\n        \"samples\": [\n          \"Minor challenges\",\n          \"Few to no challenges\"\n        ],\n        \"semantic_type\": \"\",\n        \"description\": \"\"\n      }\n    }\n  ]\n}"
            }
          },
          "metadata": {},
          "execution_count": 36
        }
      ]
    },
    {
      "cell_type": "markdown",
      "source": [
        "## Visualização dos Dados da API"
      ],
      "metadata": {
        "id": "q0ilylYu-rP4"
      }
    },
    {
      "cell_type": "code",
      "source": [
        "plt.figure(figsize=(10, 6))\n",
        "sns.countplot(data=df, x=\"Tipo\", order=df[\"Tipo\"].value_counts().index, palette=\"viridis\")\n",
        "plt.title(\"Distribuição de Atividades por Tipo\")\n",
        "plt.xlabel(\"Tipo de Atividade\")\n",
        "plt.ylabel(\"Quantidade\")\n",
        "plt.xticks(rotation=45)\n",
        "plt.show()\n"
      ],
      "metadata": {
        "colab": {
          "base_uri": "https://localhost:8080/",
          "height": 706
        },
        "id": "ts1sitf8zvFq",
        "outputId": "2b707c4c-933d-4984-a8e0-2d72c493a504"
      },
      "execution_count": 37,
      "outputs": [
        {
          "output_type": "stream",
          "name": "stderr",
          "text": [
            "/tmp/ipython-input-2273520740.py:2: FutureWarning: \n",
            "\n",
            "Passing `palette` without assigning `hue` is deprecated and will be removed in v0.14.0. Assign the `x` variable to `hue` and set `legend=False` for the same effect.\n",
            "\n",
            "  sns.countplot(data=df, x=\"Tipo\", order=df[\"Tipo\"].value_counts().index, palette=\"viridis\")\n"
          ]
        },
        {
          "output_type": "display_data",
          "data": {
            "text/plain": [
              "<Figure size 1000x600 with 1 Axes>"
            ],
            "image/png": "[encoded data removed]"
          },
          "metadata": {}
        }
      ]
    },
    {
      "cell_type": "code",
      "source": [
        "plt.figure(figsize=(10, 6))\n",
        "sns.boxplot(data=df, x=\"Tipo\", y=\"Preço\", palette=\"muted\")\n",
        "plt.title(\"Distribuição de Preço por Tipo de Atividade\")\n",
        "plt.xlabel(\"Tipo de Atividade\")\n",
        "plt.ylabel(\"Preço (0 = Gratuito, 1 = Caro)\")\n",
        "plt.xticks(rotation=45)\n",
        "plt.show()\n"
      ],
      "metadata": {
        "colab": {
          "base_uri": "https://localhost:8080/",
          "height": 706
        },
        "id": "-9ekeifNz1nF",
        "outputId": "ab060ef5-f9e1-4ee3-939e-a4d946dc3e10"
      },
      "execution_count": 39,
      "outputs": [
        {
          "output_type": "stream",
          "name": "stderr",
          "text": [
            "/tmp/ipython-input-2652014816.py:2: FutureWarning: \n",
            "\n",
            "Passing `palette` without assigning `hue` is deprecated and will be removed in v0.14.0. Assign the `x` variable to `hue` and set `legend=False` for the same effect.\n",
            "\n",
            "  sns.boxplot(data=df, x=\"Tipo\", y=\"Preço\", palette=\"muted\")\n"
          ]
        },
        {
          "output_type": "display_data",
          "data": {
            "text/plain": [
              "<Figure size 1000x600 with 1 Axes>"
            ],
            "image/png": "[encoded data removed]"
          },
          "metadata": {}
        }
      ]
    },
    {
      "cell_type": "markdown",
      "source": [
        "# Extração de atividade específica via Chave Específica"
      ],
      "metadata": {
        "id": "n0aiCw338_Jm"
      }
    },
    {
      "cell_type": "markdown",
      "source": [
        "Toda API tem regras, e na The Bored API nós podemos fazer uma requisição especificando uma chave existente dentro da API como em /activity/3943506"
      ],
      "metadata": {
        "id": "QanC5RMq-wR4"
      }
    },
    {
      "cell_type": "code",
      "source": [
        "url = \"https://bored-api.appbrewery.com/activity/3943506\"\n"
      ],
      "metadata": {
        "id": "VaXmo1I18-r2"
      },
      "execution_count": 40,
      "outputs": []
    },
    {
      "cell_type": "code",
      "source": [
        "response = requests.get(url)\n",
        "dados = response.json()\n"
      ],
      "metadata": {
        "id": "lOPj2npZ9fJ8"
      },
      "execution_count": 41,
      "outputs": []
    },
    {
      "cell_type": "markdown",
      "source": [
        "Os dados estão em JSON"
      ],
      "metadata": {
        "id": "6yT5WHvH_NOH"
      }
    },
    {
      "cell_type": "code",
      "source": [
        "print(dados)\n"
      ],
      "metadata": {
        "colab": {
          "base_uri": "https://localhost:8080/"
        },
        "id": "caA6QaXs9gl1",
        "outputId": "d3bb0261-7ff3-4ab2-ca62-274f13d79205"
      },
      "execution_count": 42,
      "outputs": [
        {
          "output_type": "stream",
          "name": "stdout",
          "text": [
            "{'activity': 'Learn Express.js', 'availability': 0.25, 'type': 'education', 'participants': 1, 'price': 0.1, 'accessibility': 'Few to no challenges', 'duration': 'hours', 'kidFriendly': True, 'link': 'https://expressjs.com/', 'key': '3943506'}\n"
          ]
        }
      ]
    },
    {
      "cell_type": "code",
      "source": [
        "df = pd.DataFrame([dados])\n",
        "df.columns = [\"Atividade\", \"Disponibilidade\", \"Tipo\", \"Participantes\", \"Preço\",\n",
        "              \"Acessibilidade\", \"Duração\", \"Infantil\", \"Link\", \"Chave\"]\n"
      ],
      "metadata": {
        "id": "PznUQ6nP9jMM"
      },
      "execution_count": 43,
      "outputs": []
    },
    {
      "cell_type": "code",
      "source": [
        "df.to_csv(\"atividade_expressjs.csv\", index=False, encoding=\"utf-8\")"
      ],
      "metadata": {
        "id": "lVuNEq-l9mts"
      },
      "execution_count": 44,
      "outputs": []
    },
    {
      "cell_type": "markdown",
      "source": [
        "Os dados da API antes em JSON agora estão convertidos para o formato de DataFrame podendo ser lido pelo Pandas como uma TABELA"
      ],
      "metadata": {
        "id": "h45X1SAb_B8o"
      }
    },
    {
      "cell_type": "code",
      "source": [
        "pd.read_csv(\"atividade_expressjs.csv\")"
      ],
      "metadata": {
        "colab": {
          "base_uri": "https://localhost:8080/",
          "height": 81
        },
        "id": "x41aDeLY9pNT",
        "outputId": "841dfd67-0d1b-47dc-a761-aca743634ff3"
      },
      "execution_count": 45,
      "outputs": [
        {
          "output_type": "execute_result",
          "data": {
            "text/plain": [
              "          Atividade  Disponibilidade       Tipo  Participantes  Preço  \\\n",
              "0  Learn Express.js             0.25  education              1    0.1   \n",
              "\n",
              "         Acessibilidade Duração  Infantil                    Link    Chave  \n",
              "0  Few to no challenges   hours      True  https://expressjs.com/  3943506  "
            ],
            "text/html": [
              "\n",
              "  <div id=\"df-ad713bc1-bda1-4530-b367-5d5852b1ece7\" class=\"colab-df-container\">\n",
              "    <div>\n",
              "<style scoped>\n",
              "    .dataframe tbody tr th:only-of-type {\n",
              "        vertical-align: middle;\n",
              "    }\n",
              "\n",
              "    .dataframe tbody tr th {\n",
              "        vertical-align: top;\n",
              "    }\n",
              "\n",
              "    .dataframe thead th {\n",
              "        text-align: right;\n",
              "    }\n",
              "</style>\n",
              "<table border=\"1\" class=\"dataframe\">\n",
              "  <thead>\n",
              "    <tr style=\"text-align: right;\">\n",
              "      <th></th>\n",
              "      <th>Atividade</th>\n",
              "      <th>Disponibilidade</th>\n",
              "      <th>Tipo</th>\n",
              "      <th>Participantes</th>\n",
              "      <th>Preço</th>\n",
              "      <th>Acessibilidade</th>\n",
              "      <th>Duração</th>\n",
              "      <th>Infantil</th>\n",
              "      <th>Link</th>\n",
              "      <th>Chave</th>\n",
              "    </tr>\n",
              "  </thead>\n",
              "  <tbody>\n",
              "    <tr>\n",
              "      <th>0</th>\n",
              "      <td>Learn Express.js</td>\n",
              "      <td>0.25</td>\n",
              "      <td>education</td>\n",
              "      <td>1</td>\n",
              "      <td>0.1</td>\n",
              "      <td>Few to no challenges</td>\n",
              "      <td>hours</td>\n",
              "      <td>True</td>\n",
              "      <td>https://expressjs.com/</td>\n",
              "      <td>3943506</td>\n",
              "    </tr>\n",
              "  </tbody>\n",
              "</table>\n",
              "</div>\n",
              "    <div class=\"colab-df-buttons\">\n",
              "\n",
              "  <div class=\"colab-df-container\">\n",
              "    <button class=\"colab-df-convert\" onclick=\"convertToInteractive('df-ad713bc1-bda1-4530-b367-5d5852b1ece7')\"\n",
              "            title=\"Convert this dataframe to an interactive table.\"\n",
              "            style=\"display:none;\">\n",
              "\n",
              "  <svg xmlns=\"http://www.w3.org/2000/svg\" height=\"24px\" viewBox=\"0 -960 960 960\">\n",
              "    <path d=\"M120-120v-720h720v720H120Zm60-500h600v-160H180v160Zm220 220h160v-160H400v160Zm0 220h160v-160H400v160ZM180-400h160v-160H180v160Zm440 0h160v-160H620v160ZM180-180h160v-160H180v160Zm440 0h160v-160H620v160Z\"/>\n",
              "  </svg>\n",
              "    </button>\n",
              "\n",
              "  <style>\n",
              "    .colab-df-container {\n",
              "      display:flex;\n",
              "      gap: 12px;\n",
              "    }\n",
              "\n",
              "    .colab-df-convert {\n",
              "      background-color: #E8F0FE;\n",
              "      border: none;\n",
              "      border-radius: 50%;\n",
              "      cursor: pointer;\n",
              "      display: none;\n",
              "      fill: #1967D2;\n",
              "      height: 32px;\n",
              "      padding: 0 0 0 0;\n",
              "      width: 32px;\n",
              "    }\n",
              "\n",
              "    .colab-df-convert:hover {\n",
              "      background-color: #E2EBFA;\n",
              "      box-shadow: 0px 1px 2px rgba(60, 64, 67, 0.3), 0px 1px 3px 1px rgba(60, 64, 67, 0.15);\n",
              "      fill: #174EA6;\n",
              "    }\n",
              "\n",
              "    .colab-df-buttons div {\n",
              "      margin-bottom: 4px;\n",
              "    }\n",
              "\n",
              "    [theme=dark] .colab-df-convert {\n",
              "      background-color: #3B4455;\n",
              "      fill: #D2E3FC;\n",
              "    }\n",
              "\n",
              "    [theme=dark] .colab-df-convert:hover {\n",
              "      background-color: #434B5C;\n",
              "      box-shadow: 0px 1px 3px 1px rgba(0, 0, 0, 0.15);\n",
              "      filter: drop-shadow(0px 1px 2px rgba(0, 0, 0, 0.3));\n",
              "      fill: #FFFFFF;\n",
              "    }\n",
              "  </style>\n",
              "\n",
              "    <script>\n",
              "      const buttonEl =\n",
              "        document.querySelector('#df-ad713bc1-bda1-4530-b367-5d5852b1ece7 button.colab-df-convert');\n",
              "      buttonEl.style.display =\n",
              "        google.colab.kernel.accessAllowed ? 'block' : 'none';\n",
              "\n",
              "      async function convertToInteractive(key) {\n",
              "        const element = document.querySelector('#df-ad713bc1-bda1-4530-b367-5d5852b1ece7');\n",
              "        const dataTable =\n",
              "          await google.colab.kernel.invokeFunction('convertToInteractive',\n",
              "                                                    [key], {});\n",
              "        if (!dataTable) return;\n",
              "\n",
              "        const docLinkHtml = 'Like what you see? Visit the ' +\n",
              "          '<a target=\"_blank\" href=https://colab.research.google.com/notebooks/data_table.ipynb>data table notebook</a>'\n",
              "          + ' to learn more about interactive tables.';\n",
              "        element.innerHTML = '';\n",
              "        dataTable['output_type'] = 'display_data';\n",
              "        await google.colab.output.renderOutput(dataTable, element);\n",
              "        const docLink = document.createElement('div');\n",
              "        docLink.innerHTML = docLinkHtml;\n",
              "        element.appendChild(docLink);\n",
              "      }\n",
              "    </script>\n",
              "  </div>\n",
              "\n",
              "\n",
              "    </div>\n",
              "  </div>\n"
            ],
            "application/vnd.google.colaboratory.intrinsic+json": {
              "type": "dataframe",
              "summary": "{\n  \"name\": \"pd\",\n  \"rows\": 1,\n  \"fields\": [\n    {\n      \"column\": \"Atividade\",\n      \"properties\": {\n        \"dtype\": \"string\",\n        \"num_unique_values\": 1,\n        \"samples\": [\n          \"Learn Express.js\"\n        ],\n        \"semantic_type\": \"\",\n        \"description\": \"\"\n      }\n    },\n    {\n      \"column\": \"Disponibilidade\",\n      \"properties\": {\n        \"dtype\": \"number\",\n        \"std\": null,\n        \"min\": 0.25,\n        \"max\": 0.25,\n        \"num_unique_values\": 1,\n        \"samples\": [\n          0.25\n        ],\n        \"semantic_type\": \"\",\n        \"description\": \"\"\n      }\n    },\n    {\n      \"column\": \"Tipo\",\n      \"properties\": {\n        \"dtype\": \"string\",\n        \"num_unique_values\": 1,\n        \"samples\": [\n          \"education\"\n        ],\n        \"semantic_type\": \"\",\n        \"description\": \"\"\n      }\n    },\n    {\n      \"column\": \"Participantes\",\n      \"properties\": {\n        \"dtype\": \"number\",\n        \"std\": null,\n        \"min\": 1,\n        \"max\": 1,\n        \"num_unique_values\": 1,\n        \"samples\": [\n          1\n        ],\n        \"semantic_type\": \"\",\n        \"description\": \"\"\n      }\n    },\n    {\n      \"column\": \"Pre\\u00e7o\",\n      \"properties\": {\n        \"dtype\": \"number\",\n        \"std\": null,\n        \"min\": 0.1,\n        \"max\": 0.1,\n        \"num_unique_values\": 1,\n        \"samples\": [\n          0.1\n        ],\n        \"semantic_type\": \"\",\n        \"description\": \"\"\n      }\n    },\n    {\n      \"column\": \"Acessibilidade\",\n      \"properties\": {\n        \"dtype\": \"string\",\n        \"num_unique_values\": 1,\n        \"samples\": [\n          \"Few to no challenges\"\n        ],\n        \"semantic_type\": \"\",\n        \"description\": \"\"\n      }\n    },\n    {\n      \"column\": \"Dura\\u00e7\\u00e3o\",\n      \"properties\": {\n        \"dtype\": \"string\",\n        \"num_unique_values\": 1,\n        \"samples\": [\n          \"hours\"\n        ],\n        \"semantic_type\": \"\",\n        \"description\": \"\"\n      }\n    },\n    {\n      \"column\": \"Infantil\",\n      \"properties\": {\n        \"dtype\": \"boolean\",\n        \"num_unique_values\": 1,\n        \"samples\": [\n          true\n        ],\n        \"semantic_type\": \"\",\n        \"description\": \"\"\n      }\n    },\n    {\n      \"column\": \"Link\",\n      \"properties\": {\n        \"dtype\": \"string\",\n        \"num_unique_values\": 1,\n        \"samples\": [\n          \"https://expressjs.com/\"\n        ],\n        \"semantic_type\": \"\",\n        \"description\": \"\"\n      }\n    },\n    {\n      \"column\": \"Chave\",\n      \"properties\": {\n        \"dtype\": \"number\",\n        \"std\": null,\n        \"min\": 3943506,\n        \"max\": 3943506,\n        \"num_unique_values\": 1,\n        \"samples\": [\n          3943506\n        ],\n        \"semantic_type\": \"\",\n        \"description\": \"\"\n      }\n    }\n  ]\n}"
            }
          },
          "metadata": {},
          "execution_count": 45
        }
      ]
    },
    {
      "cell_type": "markdown",
      "source": [
        "# Extração de atividades filtradas por tipo"
      ],
      "metadata": {
        "id": "tI7Ydy9X9wST"
      }
    },
    {
      "cell_type": "code",
      "source": [
        "url_um = \"https://bored-api.appbrewery.com/filter?type=education\"\n"
      ],
      "metadata": {
        "id": "Xip4vXoS9xnL"
      },
      "execution_count": 46,
      "outputs": []
    },
    {
      "cell_type": "code",
      "source": [
        "response = requests.get(url_um)\n",
        "atividades = response.json()\n"
      ],
      "metadata": {
        "id": "79Lg5mxB92PD"
      },
      "execution_count": 47,
      "outputs": []
    },
    {
      "cell_type": "code",
      "source": [
        "for atividade in atividades:\n",
        "    print(atividade[\"activity\"])\n"
      ],
      "metadata": {
        "colab": {
          "base_uri": "https://localhost:8080/"
        },
        "id": "ou8lQr6M94Ry",
        "outputId": "9ef54f90-4c62-4095-c5fb-b2b8d8ae01c8"
      },
      "execution_count": 48,
      "outputs": [
        {
          "output_type": "stream",
          "name": "stdout",
          "text": [
            "Learn Express.js\n",
            "Learn to greet someone in a new language\n",
            "Learn a new programming language\n",
            "Learn how to fold a paper crane\n",
            "Learn about the Golden Ratio\n",
            "Learn calligraphy\n",
            "Learn to sew on a button\n",
            "Learn how to french braid hair\n",
            "Learn how to whistle with your fingers\n",
            "Learn how to write in shorthand\n",
            "Learn how to make a website\n",
            "Learn how the internet works\n",
            "Memorize the fifty states and their capitals\n",
            "Take a class at your local community center that interests you\n",
            "Learn origami\n",
            "Read a formal research paper on an interesting subject\n",
            "Learn how to make an Alexa skill\n",
            "Learn Kotlin\n",
            "Learn GraphQL\n",
            "Start a webinar on a topic of your choice\n",
            "Learn how to use an Arduino\n",
            "Learn Javascript\n",
            "Research a topic you're interested in\n",
            "Study a foreign language\n",
            "Learn the NATO phonetic alphabet\n",
            "Watch a Khan Academy lecture on a subject of your choosing\n",
            "Learn about a distributed version control system such as Git\n",
            "Learn Morse code\n",
            "Memorize a favorite quote or poem\n",
            "Learn the periodic table\n"
          ]
        }
      ]
    },
    {
      "cell_type": "markdown",
      "source": [
        "Transformar em DataFrame"
      ],
      "metadata": {
        "id": "hRrMJC0l98F7"
      }
    },
    {
      "cell_type": "code",
      "source": [
        "df = pd.DataFrame(atividades)\n",
        "df = df[[\"activity\", \"type\", \"participants\", \"price\", \"accessibility\", \"duration\", \"kidFriendly\", \"link\", \"key\"]]\n",
        "df.columns = [\"Atividade\", \"Tipo\", \"Participantes\", \"Preço\", \"Acessibilidade\", \"Duração\", \"Infantil\", \"Link\", \"Chave\"]\n"
      ],
      "metadata": {
        "id": "SeVoJex496ZC"
      },
      "execution_count": 49,
      "outputs": []
    },
    {
      "cell_type": "code",
      "source": [
        "import seaborn as sns\n",
        "import matplotlib.pyplot as plt\n",
        "\n",
        "plt.figure(figsize=(10, 6))\n",
        "sns.histplot(data=df, x=\"Preço\", bins=10, kde=True)\n",
        "plt.title(\"Distribuição de Preço das Atividades Educativas\")\n",
        "plt.xlabel(\"Preço\")\n",
        "plt.ylabel(\"Frequência\")\n",
        "plt.show()\n"
      ],
      "metadata": {
        "colab": {
          "base_uri": "https://localhost:8080/",
          "height": 564
        },
        "id": "d8bd2I1v9-Pq",
        "outputId": "033cf3a4-6342-4b58-ed6b-843cb2602e91"
      },
      "execution_count": 50,
      "outputs": [
        {
          "output_type": "display_data",
          "data": {
            "text/plain": [
              "<Figure size 1000x600 with 1 Axes>"
            ],
            "image/png": "[encoded data removed]"
          },
          "metadata": {}
        }
      ]
    }
  ]
}